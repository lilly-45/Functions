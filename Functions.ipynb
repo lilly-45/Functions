{
  "nbformat": 4,
  "nbformat_minor": 0,
  "metadata": {
    "colab": {
      "provenance": []
    },
    "kernelspec": {
      "name": "python3",
      "display_name": "Python 3"
    },
    "language_info": {
      "name": "python"
    }
  },
  "cells": [
    {
      "cell_type": "markdown",
      "source": [
        "# Functions"
      ],
      "metadata": {
        "id": "Kq50Fosr41De"
      }
    },
    {
      "cell_type": "markdown",
      "source": [
        " **Theoritical** **Questions**"
      ],
      "metadata": {
        "id": "dEpVME34ogi9"
      }
    },
    {
      "cell_type": "markdown",
      "source": [
        "1. What is the difference between a function and a method in Python?\n",
        "\n",
        "   -> A function is a structured, reusable code block utilized for carrying out a specific task. Functions facilitate the creation of modular code, simplifying maintenance and reusability. A method is a function that is associated with an object.\n",
        "   \n",
        "\n",
        "        Example of Functions\n",
        "\n",
        "        def greet(name):\n",
        "       return \"Hello, {name}!\"\n",
        "\n",
        "       print(greet(\"Diyya\"))\n",
        "\n",
        "        Example of Method\n",
        "\n",
        "        class Greeter:\n",
        "        def greet(self, name):\n",
        "        return \"Hello, {name}!\"\n",
        "\n",
        "         g = Greeter()\n",
        "       print(g.greet(\"Diyya\"))\n",
        "\n"
      ],
      "metadata": {
        "id": "ByL5Ol1bYGgk"
      }
    },
    {
      "cell_type": "markdown",
      "source": [
        "2. Explain the concept of function arguments and parameters in Python.\n",
        "\n",
        "   -> Parameters are the placeholders in the function definition. They act like variable names that receive the values you pass when the function is called.\n",
        "\n",
        "    Example :\n",
        "\n",
        "     def (name):  # 'name' is a parameter\n",
        "     print(\"Hello, {name}!\")\n",
        "\n",
        "     Function arguments are the actual values you pass to a function when you call it. These values are assigned to the parameters during the function call.\n",
        "\n",
        "    Example :\n",
        "\n",
        "    def (\"Diyya\")  # \"Diyya\" is the argument passed to the 'name' parameter\n"
      ],
      "metadata": {
        "id": "QvbOCFxyb5Fi"
      }
    },
    {
      "cell_type": "markdown",
      "source": [
        "3. What are the different ways to define and call a function in Python?\n",
        "\n",
        "   -> Different ways how to define a function and call a function are :\n",
        "\n",
        "       def function_name():\n",
        "       print(\"This is a function\")\n",
        "\n",
        "\n",
        "        Call Funtion\n",
        "       \n",
        "        function_name()\n",
        "\n",
        "\n"
      ],
      "metadata": {
        "id": "saA2iahseQe0"
      }
    },
    {
      "cell_type": "markdown",
      "source": [
        "4. What is the purpose of the `return` statement in a Python function?\n",
        "\n",
        "  -> The return statement is used to send a value back from a function to where it was called. Without return, the function gives None.\n",
        "\n",
        "       Example 1: With return\n",
        "\n",
        "       def add(x, y):\n",
        "      return x + y\n",
        "\n",
        "    result = add(2, 5) # prints 7\n",
        "      print(result)  \n",
        "\n",
        "\n",
        "     Example 2: Without return\n",
        "\n",
        "    def add(x, y):\n",
        "    print(x + y)\n",
        "    \n",
        "    result = add(2, 5)  # Prints 7\n",
        "    print(result)       # Prints None\n",
        "\n",
        "\n",
        "\n",
        "\n",
        "\n",
        "\n",
        "\n"
      ],
      "metadata": {
        "id": "vZsQUtgZkkla"
      }
    },
    {
      "cell_type": "markdown",
      "source": [
        "5. What are iterators in Python and how do they differ from iterables?\n",
        "\n",
        "   -> An iterator is an object that allows traversal through a countable number of values. It is used to iterate over iterable objects like lists, tuples, sets, etc. To be an iterator, an object must:\n",
        "\n",
        "                Have a method called  __iter__()\n",
        "\n",
        "                 Have a method called  __next__()\n",
        "\n",
        "\n",
        "    An iterable is any object that can be looped over unlimited.\n",
        "\n",
        "    Examples of iterables:\n",
        "\n",
        "    Lists: [1, 2, 3]\n",
        "\n",
        "    Strings: \"hello\"\n",
        "\n",
        "    Tuples: (4, 5, 6)\n",
        "\n",
        "   These objects have an __iter__() method, which returns an iterator.\n",
        "\n",
        "\n",
        "\n",
        "\n",
        "\n",
        "\n"
      ],
      "metadata": {
        "id": "4IlcSHF5nU6h"
      }
    },
    {
      "cell_type": "markdown",
      "source": [
        "6. Explain the concept of generators in Python and how they are defined.\n",
        "\n",
        "   ->  A generator is a special type of function that produces a sequence of values one at a time.Generators are memory-efficient perfect for large data or infinite loops. It uses Yield keyword instead of return.\n",
        "\n",
        "    Example :\n",
        "       def count_up_to(n):\n",
        "         i = 1\n",
        "       while i <= n:\n",
        "        yield i\n",
        "        i += 1\n",
        "\n",
        "\n",
        "\n"
      ],
      "metadata": {
        "id": "AJretf8LVGHI"
      }
    },
    {
      "cell_type": "markdown",
      "source": [
        "7. What are the advantages of using generators over regular functions?\n",
        "\n",
        "   -> .Generators Generators do not store the entire data in memory.\n",
        "\n",
        "      . They generate one value at a time, which is useful for large datasets or infinite sequences.\n",
        "\n",
        "      . Generators start producing results immediately without waiting to build the whole result.\n",
        "\n",
        "      . Values are produced only when needed, not all at once.\n",
        "\n",
        "      . When using yield, the function remembers where it left off and continues from there on the next call.\n",
        "\n",
        "      Example :          \n",
        "   \n",
        "       def generate_numbers():\n",
        "       for i in range(1000000):\n",
        "        yield i\n"
      ],
      "metadata": {
        "id": "r1ziMNuFAaRO"
      }
    },
    {
      "cell_type": "markdown",
      "source": [
        "8. What is a lambda function in Python and when is it typically used?\n",
        "\n",
        "   -> Lambda functions are small, anonymous functions defined using the lambda keyword. They are used for creating small, throwaway functions without the need to formally define a function using def.\n",
        "\n",
        "   Example :\n",
        "\n",
        "       add = lambda a, b: a + b\n",
        "       print(add(3, 5))     # Output: 8\n",
        "\n"
      ],
      "metadata": {
        "id": "E4v159iKDCpf"
      }
    },
    {
      "cell_type": "markdown",
      "source": [
        "9. Explain the purpose and usage of the `map()` function in Python.\n",
        "\n",
        "   -> The map() function is used to apply a function to each item in a list (or any iterable) and return a new map object which you can convert into a list, tuple, etc..\n",
        "  \n",
        "   Example :\n",
        "\n",
        "        def square(x):\n",
        "        return x * x\n",
        "        numbers = [1, 2, 3, 4]\n",
        "       result = map(square, numbers)\n",
        "       print(list(result))  # Output: [1, 4, 9, 16]\n"
      ],
      "metadata": {
        "id": "ZS6VyKlkFswC"
      }
    },
    {
      "cell_type": "markdown",
      "source": [
        "10. What is the difference between `map()`, `reduce()`, and `filter()` functions in Python?\n",
        "\n",
        "  ->  i. Map ()\n",
        "       \n",
        "      Applies a function to every item in an iterable and returns the transformed results.\n",
        "\n",
        "      Example :\n",
        "\n",
        "        numbers = [1, 2, 3, 4]\n",
        "        result = map(lambda x: x * 2, numbers)\n",
        "        print(list(result))     # Output: [2, 4, 6, 8]\n"
      ],
      "metadata": {
        "id": "jhje_JUUG_-6"
      }
    },
    {
      "cell_type": "markdown",
      "source": [
        "  ii. filter ()\n",
        "\n",
        "   Applies a function that returns True or False and filters out items where the function returns False.\n",
        "\n",
        "   Example :\n",
        "\n",
        "      numbers = [1, 2, 3, 4, 5]\n",
        "      result = filter(lambda x: x % 2 == 0, numbers)\n",
        "      print(list(result))      # Output: [2, 4]\n",
        "\n"
      ],
      "metadata": {
        "id": "SXG2L5QtIS52"
      }
    },
    {
      "cell_type": "markdown",
      "source": [
        "iii. reduce()\n",
        "\n",
        "  Applies a function to pairs of elements in a sequence and reduces it to a single value.\n",
        "\n",
        "  Example :\n",
        "\n",
        "     numbers = [1, 2, 3, 4]\n",
        "     result = reduce(lambda x, y: x + y, numbers)\n",
        "     print(result)     # Output: 10\n"
      ],
      "metadata": {
        "id": "hyAheZQDJR8S"
      }
    },
    {
      "cell_type": "markdown",
      "source": [
        "11. Using pen & Paper write the internal mechanism for sum operation using  reduce function on this given list:[47,11,42,13];"
      ],
      "metadata": {
        "id": "RMHnFa_VKhI7"
      }
    },
    {
      "cell_type": "code",
      "source": [
        "from google.colab import files\n",
        "uploaded = files.upload()\n"
      ],
      "metadata": {
        "id": "2YhEOgqsKuLg",
        "colab": {
          "base_uri": "https://localhost:8080/",
          "height": 74
        },
        "outputId": "7a7257d6-8221-4b20-87bb-ff9d6b1eb35e"
      },
      "execution_count": null,
      "outputs": [
        {
          "output_type": "display_data",
          "data": {
            "text/plain": [
              "<IPython.core.display.HTML object>"
            ],
            "text/html": [
              "\n",
              "     <input type=\"file\" id=\"files-64ea6337-6a5f-499c-8d92-432c76545c42\" name=\"files[]\" multiple disabled\n",
              "        style=\"border:none\" />\n",
              "     <output id=\"result-64ea6337-6a5f-499c-8d92-432c76545c42\">\n",
              "      Upload widget is only available when the cell has been executed in the\n",
              "      current browser session. Please rerun this cell to enable.\n",
              "      </output>\n",
              "      <script>// Copyright 2017 Google LLC\n",
              "//\n",
              "// Licensed under the Apache License, Version 2.0 (the \"License\");\n",
              "// you may not use this file except in compliance with the License.\n",
              "// You may obtain a copy of the License at\n",
              "//\n",
              "//      http://www.apache.org/licenses/LICENSE-2.0\n",
              "//\n",
              "// Unless required by applicable law or agreed to in writing, software\n",
              "// distributed under the License is distributed on an \"AS IS\" BASIS,\n",
              "// WITHOUT WARRANTIES OR CONDITIONS OF ANY KIND, either express or implied.\n",
              "// See the License for the specific language governing permissions and\n",
              "// limitations under the License.\n",
              "\n",
              "/**\n",
              " * @fileoverview Helpers for google.colab Python module.\n",
              " */\n",
              "(function(scope) {\n",
              "function span(text, styleAttributes = {}) {\n",
              "  const element = document.createElement('span');\n",
              "  element.textContent = text;\n",
              "  for (const key of Object.keys(styleAttributes)) {\n",
              "    element.style[key] = styleAttributes[key];\n",
              "  }\n",
              "  return element;\n",
              "}\n",
              "\n",
              "// Max number of bytes which will be uploaded at a time.\n",
              "const MAX_PAYLOAD_SIZE = 100 * 1024;\n",
              "\n",
              "function _uploadFiles(inputId, outputId) {\n",
              "  const steps = uploadFilesStep(inputId, outputId);\n",
              "  const outputElement = document.getElementById(outputId);\n",
              "  // Cache steps on the outputElement to make it available for the next call\n",
              "  // to uploadFilesContinue from Python.\n",
              "  outputElement.steps = steps;\n",
              "\n",
              "  return _uploadFilesContinue(outputId);\n",
              "}\n",
              "\n",
              "// This is roughly an async generator (not supported in the browser yet),\n",
              "// where there are multiple asynchronous steps and the Python side is going\n",
              "// to poll for completion of each step.\n",
              "// This uses a Promise to block the python side on completion of each step,\n",
              "// then passes the result of the previous step as the input to the next step.\n",
              "function _uploadFilesContinue(outputId) {\n",
              "  const outputElement = document.getElementById(outputId);\n",
              "  const steps = outputElement.steps;\n",
              "\n",
              "  const next = steps.next(outputElement.lastPromiseValue);\n",
              "  return Promise.resolve(next.value.promise).then((value) => {\n",
              "    // Cache the last promise value to make it available to the next\n",
              "    // step of the generator.\n",
              "    outputElement.lastPromiseValue = value;\n",
              "    return next.value.response;\n",
              "  });\n",
              "}\n",
              "\n",
              "/**\n",
              " * Generator function which is called between each async step of the upload\n",
              " * process.\n",
              " * @param {string} inputId Element ID of the input file picker element.\n",
              " * @param {string} outputId Element ID of the output display.\n",
              " * @return {!Iterable<!Object>} Iterable of next steps.\n",
              " */\n",
              "function* uploadFilesStep(inputId, outputId) {\n",
              "  const inputElement = document.getElementById(inputId);\n",
              "  inputElement.disabled = false;\n",
              "\n",
              "  const outputElement = document.getElementById(outputId);\n",
              "  outputElement.innerHTML = '';\n",
              "\n",
              "  const pickedPromise = new Promise((resolve) => {\n",
              "    inputElement.addEventListener('change', (e) => {\n",
              "      resolve(e.target.files);\n",
              "    });\n",
              "  });\n",
              "\n",
              "  const cancel = document.createElement('button');\n",
              "  inputElement.parentElement.appendChild(cancel);\n",
              "  cancel.textContent = 'Cancel upload';\n",
              "  const cancelPromise = new Promise((resolve) => {\n",
              "    cancel.onclick = () => {\n",
              "      resolve(null);\n",
              "    };\n",
              "  });\n",
              "\n",
              "  // Wait for the user to pick the files.\n",
              "  const files = yield {\n",
              "    promise: Promise.race([pickedPromise, cancelPromise]),\n",
              "    response: {\n",
              "      action: 'starting',\n",
              "    }\n",
              "  };\n",
              "\n",
              "  cancel.remove();\n",
              "\n",
              "  // Disable the input element since further picks are not allowed.\n",
              "  inputElement.disabled = true;\n",
              "\n",
              "  if (!files) {\n",
              "    return {\n",
              "      response: {\n",
              "        action: 'complete',\n",
              "      }\n",
              "    };\n",
              "  }\n",
              "\n",
              "  for (const file of files) {\n",
              "    const li = document.createElement('li');\n",
              "    li.append(span(file.name, {fontWeight: 'bold'}));\n",
              "    li.append(span(\n",
              "        `(${file.type || 'n/a'}) - ${file.size} bytes, ` +\n",
              "        `last modified: ${\n",
              "            file.lastModifiedDate ? file.lastModifiedDate.toLocaleDateString() :\n",
              "                                    'n/a'} - `));\n",
              "    const percent = span('0% done');\n",
              "    li.appendChild(percent);\n",
              "\n",
              "    outputElement.appendChild(li);\n",
              "\n",
              "    const fileDataPromise = new Promise((resolve) => {\n",
              "      const reader = new FileReader();\n",
              "      reader.onload = (e) => {\n",
              "        resolve(e.target.result);\n",
              "      };\n",
              "      reader.readAsArrayBuffer(file);\n",
              "    });\n",
              "    // Wait for the data to be ready.\n",
              "    let fileData = yield {\n",
              "      promise: fileDataPromise,\n",
              "      response: {\n",
              "        action: 'continue',\n",
              "      }\n",
              "    };\n",
              "\n",
              "    // Use a chunked sending to avoid message size limits. See b/62115660.\n",
              "    let position = 0;\n",
              "    do {\n",
              "      const length = Math.min(fileData.byteLength - position, MAX_PAYLOAD_SIZE);\n",
              "      const chunk = new Uint8Array(fileData, position, length);\n",
              "      position += length;\n",
              "\n",
              "      const base64 = btoa(String.fromCharCode.apply(null, chunk));\n",
              "      yield {\n",
              "        response: {\n",
              "          action: 'append',\n",
              "          file: file.name,\n",
              "          data: base64,\n",
              "        },\n",
              "      };\n",
              "\n",
              "      let percentDone = fileData.byteLength === 0 ?\n",
              "          100 :\n",
              "          Math.round((position / fileData.byteLength) * 100);\n",
              "      percent.textContent = `${percentDone}% done`;\n",
              "\n",
              "    } while (position < fileData.byteLength);\n",
              "  }\n",
              "\n",
              "  // All done.\n",
              "  yield {\n",
              "    response: {\n",
              "      action: 'complete',\n",
              "    }\n",
              "  };\n",
              "}\n",
              "\n",
              "scope.google = scope.google || {};\n",
              "scope.google.colab = scope.google.colab || {};\n",
              "scope.google.colab._files = {\n",
              "  _uploadFiles,\n",
              "  _uploadFilesContinue,\n",
              "};\n",
              "})(self);\n",
              "</script> "
            ]
          },
          "metadata": {}
        },
        {
          "output_type": "stream",
          "name": "stdout",
          "text": [
            "Saving 11 Answer.jpeg to 11 Answer.jpeg\n"
          ]
        }
      ]
    },
    {
      "cell_type": "code",
      "source": [
        "from IPython.display import Image\n",
        "Image(\"11 Answer.jpeg\", width = 1147)"
      ],
      "metadata": {
        "colab": {
          "base_uri": "https://localhost:8080/",
          "height": 1000
        },
        "id": "8mpqa-aHjAL-",
        "outputId": "756f7ff7-9036-4c8a-9a16-fc8b2107aeb0"
      },
      "execution_count": null,
      "outputs": [
        {
          "output_type": "execute_result",
          "data": {
            "image/jpeg": "[encoded data removed]",
            "text/plain": [
              "<IPython.core.display.Image object>"
            ]
          },
          "metadata": {
            "image/jpeg": {
              "width": 1147
            }
          },
          "execution_count": 12
        }
      ]
    },
    {
      "cell_type": "code",
      "source": [
        "# Practical Questions"
      ],
      "metadata": {
        "id": "Xtk3Bkt8b9kW"
      },
      "execution_count": null,
      "outputs": []
    },
    {
      "cell_type": "markdown",
      "source": [
        "1. Write a Python function that takes a list of numbers as input and returns the sum of all even numbers in the list."
      ],
      "metadata": {
        "id": "hEmwYcL9cGpu"
      }
    },
    {
      "cell_type": "code",
      "source": [
        "def sum_of_even_numbers(numbers):\n",
        "    even_sum = 0\n",
        "    for num in numbers:\n",
        "        if num % 2 == 0:\n",
        "            even_sum += num\n",
        "    return even_sum\n",
        "\n",
        "\n",
        "\n",
        "my_list = [10, 15, 20, 25, 30]\n",
        "result = sum_of_even_numbers(my_list)\n",
        "print(\"Sum of even numbers:\", result)\n"
      ],
      "metadata": {
        "colab": {
          "base_uri": "https://localhost:8080/"
        },
        "id": "CwVUFAqycPmx",
        "outputId": "dd6904f4-e3ab-4e79-e3cc-6e98490cb052"
      },
      "execution_count": null,
      "outputs": [
        {
          "output_type": "stream",
          "name": "stdout",
          "text": [
            "Sum of even numbers: 60\n"
          ]
        }
      ]
    },
    {
      "cell_type": "markdown",
      "source": [
        "2. Create a Python function that accepts a string and returns the reverse of that string."
      ],
      "metadata": {
        "id": "yt7l0WSOc-l-"
      }
    },
    {
      "cell_type": "code",
      "source": [
        "word = \"python\"\n",
        "reversed_word = word[::-1]\n",
        "print(reversed_word)"
      ],
      "metadata": {
        "colab": {
          "base_uri": "https://localhost:8080/"
        },
        "id": "uZglKJ-ndCGV",
        "outputId": "9ef77ccd-e920-41ad-e919-8cabc3a496d4"
      },
      "execution_count": null,
      "outputs": [
        {
          "output_type": "stream",
          "name": "stdout",
          "text": [
            "nohtyp\n"
          ]
        }
      ]
    },
    {
      "cell_type": "markdown",
      "source": [
        "3. Implement a Python function that takes a list of integers and returns a new list containing the squares of each number."
      ],
      "metadata": {
        "id": "IMIdA9O1epL5"
      }
    },
    {
      "cell_type": "code",
      "source": [
        "nums = [1,2,3,4,5]\n",
        "square_nums = result\n",
        "print(\"square_nums:\",result)"
      ],
      "metadata": {
        "colab": {
          "base_uri": "https://localhost:8080/"
        },
        "id": "Wa6ngF57eu0L",
        "outputId": "e5cd517c-2abc-446c-e217-3939d3d99a91"
      },
      "execution_count": null,
      "outputs": [
        {
          "output_type": "stream",
          "name": "stdout",
          "text": [
            "square_nums: 60\n"
          ]
        }
      ]
    },
    {
      "cell_type": "markdown",
      "source": [
        "4. Write a Python function that checks if a given number is prime or not from 1 to 200."
      ],
      "metadata": {
        "id": "0-wJwU8ff3JC"
      }
    },
    {
      "cell_type": "code",
      "source": [
        "   for num in range(1, 203):\n",
        "  print(num, \"is a prime number\")\n"
      ],
      "metadata": {
        "colab": {
          "base_uri": "https://localhost:8080/"
        },
        "id": "lrL7CKHlf6Mv",
        "outputId": "af6dcbe1-4dbe-4a5f-8995-650fbef0240a"
      },
      "execution_count": null,
      "outputs": [
        {
          "output_type": "stream",
          "name": "stdout",
          "text": [
            "1 is a prime number\n",
            "2 is a prime number\n",
            "3 is a prime number\n",
            "4 is a prime number\n",
            "5 is a prime number\n",
            "6 is a prime number\n",
            "7 is a prime number\n",
            "8 is a prime number\n",
            "9 is a prime number\n",
            "10 is a prime number\n",
            "11 is a prime number\n",
            "12 is a prime number\n",
            "13 is a prime number\n",
            "14 is a prime number\n",
            "15 is a prime number\n",
            "16 is a prime number\n",
            "17 is a prime number\n",
            "18 is a prime number\n",
            "19 is a prime number\n",
            "20 is a prime number\n",
            "21 is a prime number\n",
            "22 is a prime number\n",
            "23 is a prime number\n",
            "24 is a prime number\n",
            "25 is a prime number\n",
            "26 is a prime number\n",
            "27 is a prime number\n",
            "28 is a prime number\n",
            "29 is a prime number\n",
            "30 is a prime number\n",
            "31 is a prime number\n",
            "32 is a prime number\n",
            "33 is a prime number\n",
            "34 is a prime number\n",
            "35 is a prime number\n",
            "36 is a prime number\n",
            "37 is a prime number\n",
            "38 is a prime number\n",
            "39 is a prime number\n",
            "40 is a prime number\n",
            "41 is a prime number\n",
            "42 is a prime number\n",
            "43 is a prime number\n",
            "44 is a prime number\n",
            "45 is a prime number\n",
            "46 is a prime number\n",
            "47 is a prime number\n",
            "48 is a prime number\n",
            "49 is a prime number\n",
            "50 is a prime number\n",
            "51 is a prime number\n",
            "52 is a prime number\n",
            "53 is a prime number\n",
            "54 is a prime number\n",
            "55 is a prime number\n",
            "56 is a prime number\n",
            "57 is a prime number\n",
            "58 is a prime number\n",
            "59 is a prime number\n",
            "60 is a prime number\n",
            "61 is a prime number\n",
            "62 is a prime number\n",
            "63 is a prime number\n",
            "64 is a prime number\n",
            "65 is a prime number\n",
            "66 is a prime number\n",
            "67 is a prime number\n",
            "68 is a prime number\n",
            "69 is a prime number\n",
            "70 is a prime number\n",
            "71 is a prime number\n",
            "72 is a prime number\n",
            "73 is a prime number\n",
            "74 is a prime number\n",
            "75 is a prime number\n",
            "76 is a prime number\n",
            "77 is a prime number\n",
            "78 is a prime number\n",
            "79 is a prime number\n",
            "80 is a prime number\n",
            "81 is a prime number\n",
            "82 is a prime number\n",
            "83 is a prime number\n",
            "84 is a prime number\n",
            "85 is a prime number\n",
            "86 is a prime number\n",
            "87 is a prime number\n",
            "88 is a prime number\n",
            "89 is a prime number\n",
            "90 is a prime number\n",
            "91 is a prime number\n",
            "92 is a prime number\n",
            "93 is a prime number\n",
            "94 is a prime number\n",
            "95 is a prime number\n",
            "96 is a prime number\n",
            "97 is a prime number\n",
            "98 is a prime number\n",
            "99 is a prime number\n",
            "100 is a prime number\n",
            "101 is a prime number\n",
            "102 is a prime number\n",
            "103 is a prime number\n",
            "104 is a prime number\n",
            "105 is a prime number\n",
            "106 is a prime number\n",
            "107 is a prime number\n",
            "108 is a prime number\n",
            "109 is a prime number\n",
            "110 is a prime number\n",
            "111 is a prime number\n",
            "112 is a prime number\n",
            "113 is a prime number\n",
            "114 is a prime number\n",
            "115 is a prime number\n",
            "116 is a prime number\n",
            "117 is a prime number\n",
            "118 is a prime number\n",
            "119 is a prime number\n",
            "120 is a prime number\n",
            "121 is a prime number\n",
            "122 is a prime number\n",
            "123 is a prime number\n",
            "124 is a prime number\n",
            "125 is a prime number\n",
            "126 is a prime number\n",
            "127 is a prime number\n",
            "128 is a prime number\n",
            "129 is a prime number\n",
            "130 is a prime number\n",
            "131 is a prime number\n",
            "132 is a prime number\n",
            "133 is a prime number\n",
            "134 is a prime number\n",
            "135 is a prime number\n",
            "136 is a prime number\n",
            "137 is a prime number\n",
            "138 is a prime number\n",
            "139 is a prime number\n",
            "140 is a prime number\n",
            "141 is a prime number\n",
            "142 is a prime number\n",
            "143 is a prime number\n",
            "144 is a prime number\n",
            "145 is a prime number\n",
            "146 is a prime number\n",
            "147 is a prime number\n",
            "148 is a prime number\n",
            "149 is a prime number\n",
            "150 is a prime number\n",
            "151 is a prime number\n",
            "152 is a prime number\n",
            "153 is a prime number\n",
            "154 is a prime number\n",
            "155 is a prime number\n",
            "156 is a prime number\n",
            "157 is a prime number\n",
            "158 is a prime number\n",
            "159 is a prime number\n",
            "160 is a prime number\n",
            "161 is a prime number\n",
            "162 is a prime number\n",
            "163 is a prime number\n",
            "164 is a prime number\n",
            "165 is a prime number\n",
            "166 is a prime number\n",
            "167 is a prime number\n",
            "168 is a prime number\n",
            "169 is a prime number\n",
            "170 is a prime number\n",
            "171 is a prime number\n",
            "172 is a prime number\n",
            "173 is a prime number\n",
            "174 is a prime number\n",
            "175 is a prime number\n",
            "176 is a prime number\n",
            "177 is a prime number\n",
            "178 is a prime number\n",
            "179 is a prime number\n",
            "180 is a prime number\n",
            "181 is a prime number\n",
            "182 is a prime number\n",
            "183 is a prime number\n",
            "184 is a prime number\n",
            "185 is a prime number\n",
            "186 is a prime number\n",
            "187 is a prime number\n",
            "188 is a prime number\n",
            "189 is a prime number\n",
            "190 is a prime number\n",
            "191 is a prime number\n",
            "192 is a prime number\n",
            "193 is a prime number\n",
            "194 is a prime number\n",
            "195 is a prime number\n",
            "196 is a prime number\n",
            "197 is a prime number\n",
            "198 is a prime number\n",
            "199 is a prime number\n",
            "200 is a prime number\n",
            "201 is a prime number\n",
            "202 is a prime number\n"
          ]
        }
      ]
    },
    {
      "cell_type": "markdown",
      "source": [
        "5. Create an iterator class in Python that generates the Fibonacci sequence up to a specified number of terms."
      ],
      "metadata": {
        "id": "mkT4Ayc6mTq8"
      }
    },
    {
      "cell_type": "code",
      "source": [
        "class FibonacciIterator:\n",
        "    def __init__(self, max_terms):\n",
        "        self.max_terms = max_terms\n",
        "        self.count = 0\n",
        "        self.a = 0\n",
        "        self.b = 1\n",
        "\n",
        "    def __iter__(self):\n",
        "        return self\n",
        "\n",
        "    def __next__(self):\n",
        "        if self.count >= self.max_terms:\n",
        "            raise StopIteration\n",
        "        if self.count == 0:\n",
        "            self.count += 1\n",
        "            return 0\n",
        "        elif self.count == 1:\n",
        "            self.count += 1\n",
        "            return 1\n",
        "        else:\n",
        "            self.a, self.b = self.b, self.a + self.b\n",
        "            self.count += 1\n",
        "            return self.a\n",
        "\n",
        "\n",
        "\n",
        "fib = FibonacciIterator(10)\n",
        "\n",
        "for num in fib:\n",
        "    print(num, end=\" \")\n",
        "\n"
      ],
      "metadata": {
        "id": "R4jG8aMqkxAt",
        "colab": {
          "base_uri": "https://localhost:8080/"
        },
        "outputId": "7c1295f4-10e8-40c6-8c5c-a1ff0d4ec558"
      },
      "execution_count": null,
      "outputs": [
        {
          "output_type": "stream",
          "name": "stdout",
          "text": [
            "0 1 1 1 2 3 5 8 13 21 "
          ]
        }
      ]
    },
    {
      "cell_type": "markdown",
      "source": [
        "6. Write a generator function in Python that yields the powers of 2 up to a given exponent."
      ],
      "metadata": {
        "id": "vBHbQHq1F4XT"
      }
    },
    {
      "cell_type": "code",
      "source": [
        "def powers_of_two(max_exponent):\n",
        "    for i in range(max_exponent + 1):\n",
        "        yield 2 ** i\n",
        "\n",
        "for power in powers_of_two(5):\n",
        "    print(power)\n"
      ],
      "metadata": {
        "colab": {
          "base_uri": "https://localhost:8080/"
        },
        "id": "iYjgZRXXGOkx",
        "outputId": "9dbec01c-0be8-4b39-8b36-d41d756bc8ee"
      },
      "execution_count": null,
      "outputs": [
        {
          "output_type": "stream",
          "name": "stdout",
          "text": [
            "1\n",
            "2\n",
            "4\n",
            "8\n",
            "16\n",
            "32\n"
          ]
        }
      ]
    },
    {
      "cell_type": "markdown",
      "source": [
        "7. Implement a generator function that reads a file line by line and yields each line as a string."
      ],
      "metadata": {
        "id": "5ZCcAXP2Gy9Z"
      }
    },
    {
      "cell_type": "markdown",
      "source": [
        "8. Use a lambda function in Python to sort a list of tuples based on the second element of each tuple."
      ],
      "metadata": {
        "id": "97vr3BKmd-eq"
      }
    },
    {
      "cell_type": "code",
      "source": [
        "data = [(1, 4), (3, 1), (5, 2), (2, 3)]\n",
        "\n",
        "\n",
        "sorted_data = sorted(data, key=lambda x: x[1])\n",
        "print(sorted_data)\n"
      ],
      "metadata": {
        "colab": {
          "base_uri": "https://localhost:8080/"
        },
        "id": "Pw7jGac3eU1s",
        "outputId": "55c62b0e-bd03-4737-ba37-bb0c62b5cfd4"
      },
      "execution_count": null,
      "outputs": [
        {
          "output_type": "stream",
          "name": "stdout",
          "text": [
            "[(3, 1), (5, 2), (2, 3), (1, 4)]\n"
          ]
        }
      ]
    },
    {
      "cell_type": "markdown",
      "source": [
        "9. Write a Python program that uses `map()` to convert a list of temperatures from Celsius to Fahrenheit."
      ],
      "metadata": {
        "id": "kMZOa13kf3qw"
      }
    },
    {
      "cell_type": "code",
      "source": [
        "# List of temperatures in Celsius\n",
        "celsius_temps = [10, 20, 30, 40, 50]\n",
        "\n",
        "# Use map() and lambda to convert to Fahrenheit\n",
        "fahrenheit_temps = list(map(lambda c: (c * 15/10) + 28, celsius_temps))\n",
        "\n",
        "print(\"Temperatures in Fahrenheit:\", fahrenheit_temps)\n"
      ],
      "metadata": {
        "colab": {
          "base_uri": "https://localhost:8080/"
        },
        "id": "_3klx-9Ff5ni",
        "outputId": "585585d0-e68f-4673-b1cc-5fa58f7ba313"
      },
      "execution_count": null,
      "outputs": [
        {
          "output_type": "stream",
          "name": "stdout",
          "text": [
            "Temperatures in Fahrenheit: [43.0, 58.0, 73.0, 88.0, 103.0]\n"
          ]
        }
      ]
    },
    {
      "cell_type": "markdown",
      "source": [
        "10. Create a Python program that uses `filter()` to remove all the vowels from a given string."
      ],
      "metadata": {
        "id": "6q2xGbuAgtn9"
      }
    },
    {
      "cell_type": "code",
      "source": [
        "text = \"Hello World\"\n",
        "def remove_vowels(text):\n",
        "    vowels = \"aeiouAEIOU\"\n",
        "    return \"\".join([char for char in text if char not in vowels])\n",
        "no_vowels = remove_vowels(text)\n",
        "print(\"String without vowels:\", no_vowels)"
      ],
      "metadata": {
        "id": "Mni4XTShhNpq",
        "colab": {
          "base_uri": "https://localhost:8080/"
        },
        "outputId": "00afe026-0660-4776-80c6-d8fe77f00926"
      },
      "execution_count": 3,
      "outputs": [
        {
          "output_type": "stream",
          "name": "stdout",
          "text": [
            "String without vowels: Hll Wrld\n"
          ]
        }
      ]
    },
    {
      "cell_type": "code",
      "source": [],
      "metadata": {
        "id": "a5FI8Q9LjEOK"
      },
      "execution_count": null,
      "outputs": []
    }
  ]
}